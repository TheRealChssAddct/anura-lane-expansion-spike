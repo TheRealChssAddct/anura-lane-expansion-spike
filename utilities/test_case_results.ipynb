{
    "metadata": {
        "kernelspec": {
            "name": "SQL",
            "display_name": "SQL",
            "language": "sql"
        },
        "language_info": {
            "name": "sql",
            "version": ""
        }
    },
    "nbformat_minor": 2,
    "nbformat": 4,
    "cells": [
        {
            "cell_type": "code",
            "source": [
                "select * from standard_table_counts order by rows;\n",
                "select * from view_counts order by rows;\n",
                "select * from materialized_view_counts order by rows;"
            ],
            "metadata": {
                "azdata_cell_guid": "1ba7d29b-90b7-43a3-91ee-da8597f9923d",
                "tags": []
            },
            "outputs": [],
            "execution_count": null
        },
        {
            "cell_type": "code",
            "source": [
                "select 'expanded_lanes_v1' as ViewName, count(*) from expanded_lanes_v1"
            ],
            "metadata": {
                "azdata_cell_guid": "ab21cb4a-84b9-47ab-8511-36f93fa9e467"
            },
            "outputs": [],
            "execution_count": null
        },
        {
            "cell_type": "code",
            "source": [
                "select 'deduped_lanes_v1' as ViewName, count(*) from deduped_lanes_v1"
            ],
            "metadata": {
                "azdata_cell_guid": "2332b40c-42b5-49cb-9a2b-7640a3fcef7c"
            },
            "outputs": [],
            "execution_count": null
        },
        {
            "cell_type": "code",
            "source": [
                "select 'expanded_lanes_v2' as ViewName, count(*) from expanded_lanes_v2"
            ],
            "metadata": {
                "azdata_cell_guid": "6dd15279-218e-4f5c-9cc9-c3d2ab2b70a5"
            },
            "outputs": [],
            "execution_count": null
        },
        {
            "cell_type": "code",
            "source": [
                "select 'deduped_lanes_v2' as ViewName, count(*) from deduped_lanes_v2"
            ],
            "metadata": {
                "azdata_cell_guid": "de8c1dbd-c11d-4aeb-94ed-c9e127c82216"
            },
            "outputs": [],
            "execution_count": null
        }
    ]
}