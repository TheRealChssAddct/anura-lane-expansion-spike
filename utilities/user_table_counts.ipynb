{
    "metadata": {
        "kernelspec": {
            "name": "SQL",
            "display_name": "SQL",
            "language": "sql"
        },
        "language_info": {
            "name": "sql",
            "version": ""
        }
    },
    "nbformat_minor": 2,
    "nbformat": 4,
    "cells": [
        {
            "cell_type": "code",
            "source": [
                "select * from user_table_counts;"
            ],
            "metadata": {
                "azdata_cell_guid": "a3876ebe-0805-422d-a1e2-d39a754da84a"
            },
            "outputs": [],
            "execution_count": null
        }
    ]
}